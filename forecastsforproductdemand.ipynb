{
 "cells": [
  {
   "cell_type": "code",
   "execution_count": 1,
   "id": "18e8c76a",
   "metadata": {
    "_cell_guid": "b1076dfc-b9ad-4769-8c92-a6c4dae69d19",
    "_uuid": "8f2839f25d086af736a60e9eeb907d3b93b6e0e5",
    "execution": {
     "iopub.execute_input": "2023-11-06T13:29:28.197059Z",
     "iopub.status.busy": "2023-11-06T13:29:28.196639Z",
     "iopub.status.idle": "2023-11-06T13:29:28.207590Z",
     "shell.execute_reply": "2023-11-06T13:29:28.206585Z"
    },
    "papermill": {
     "duration": 0.016785,
     "end_time": "2023-11-06T13:29:28.209873",
     "exception": false,
     "start_time": "2023-11-06T13:29:28.193088",
     "status": "completed"
    },
    "tags": []
   },
   "outputs": [],
   "source": [
    "import numpy as np"
   ]
  },
  {
   "cell_type": "code",
   "execution_count": null,
   "id": "37c83329",
   "metadata": {
    "papermill": {
     "duration": 0.001187,
     "end_time": "2023-11-06T13:29:28.212891",
     "exception": false,
     "start_time": "2023-11-06T13:29:28.211704",
     "status": "completed"
    },
    "tags": []
   },
   "outputs": [],
   "source": []
  }
 ],
 "metadata": {
  "kernelspec": {
   "display_name": "Python 3",
   "language": "python",
   "name": "python3"
  },
  "language_info": {
   "codemirror_mode": {
    "name": "ipython",
    "version": 3
   },
   "file_extension": ".py",
   "mimetype": "text/x-python",
   "name": "python",
   "nbconvert_exporter": "python",
   "pygments_lexer": "ipython3",
   "version": "3.10.12"
  },
  "papermill": {
   "default_parameters": {},
   "duration": 3.908262,
   "end_time": "2023-11-06T13:29:28.634635",
   "environment_variables": {},
   "exception": null,
   "input_path": "__notebook__.ipynb",
   "output_path": "__notebook__.ipynb",
   "parameters": {},
   "start_time": "2023-11-06T13:29:24.726373",
   "version": "2.4.0"
  }
 },
 "nbformat": 4,
 "nbformat_minor": 5
}
