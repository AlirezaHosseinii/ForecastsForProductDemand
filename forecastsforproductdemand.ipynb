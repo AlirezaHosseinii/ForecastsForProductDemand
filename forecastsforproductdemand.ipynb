{
 "cells": [
  {
   "cell_type": "code",
   "execution_count": 1,
   "id": "d2649cd0",
   "metadata": {
    "_cell_guid": "b1076dfc-b9ad-4769-8c92-a6c4dae69d19",
    "_uuid": "8f2839f25d086af736a60e9eeb907d3b93b6e0e5",
    "execution": {
     "iopub.execute_input": "2023-11-14T09:33:01.983193Z",
     "iopub.status.busy": "2023-11-14T09:33:01.982860Z",
     "iopub.status.idle": "2023-11-14T09:33:04.122489Z",
     "shell.execute_reply": "2023-11-14T09:33:04.120905Z"
    },
    "papermill": {
     "duration": 2.147752,
     "end_time": "2023-11-14T09:33:04.125092",
     "exception": false,
     "start_time": "2023-11-14T09:33:01.977340",
     "status": "completed"
    },
    "tags": []
   },
   "outputs": [],
   "source": [
    "import numpy as np\n",
    "import pandas as pd\n",
    "from sklearn.model_selection import train_test_split\n",
    "from sklearn import linear_model\n",
    "from sklearn.preprocessing import LabelEncoder"
   ]
  },
  {
   "cell_type": "code",
   "execution_count": 2,
   "id": "6d7a17be",
   "metadata": {
    "execution": {
     "iopub.execute_input": "2023-11-14T09:33:04.135895Z",
     "iopub.status.busy": "2023-11-14T09:33:04.135320Z",
     "iopub.status.idle": "2023-11-14T09:33:05.171328Z",
     "shell.execute_reply": "2023-11-14T09:33:05.170077Z"
    },
    "papermill": {
     "duration": 1.043439,
     "end_time": "2023-11-14T09:33:05.174278",
     "exception": false,
     "start_time": "2023-11-14T09:33:04.130839",
     "status": "completed"
    },
    "tags": []
   },
   "outputs": [
    {
     "data": {
      "text/html": [
       "<div>\n",
       "<style scoped>\n",
       "    .dataframe tbody tr th:only-of-type {\n",
       "        vertical-align: middle;\n",
       "    }\n",
       "\n",
       "    .dataframe tbody tr th {\n",
       "        vertical-align: top;\n",
       "    }\n",
       "\n",
       "    .dataframe thead th {\n",
       "        text-align: right;\n",
       "    }\n",
       "</style>\n",
       "<table border=\"1\" class=\"dataframe\">\n",
       "  <thead>\n",
       "    <tr style=\"text-align: right;\">\n",
       "      <th></th>\n",
       "      <th>Product_Code</th>\n",
       "      <th>Warehouse</th>\n",
       "      <th>Product_Category</th>\n",
       "      <th>Date</th>\n",
       "      <th>Order_Demand</th>\n",
       "    </tr>\n",
       "  </thead>\n",
       "  <tbody>\n",
       "    <tr>\n",
       "      <th>0</th>\n",
       "      <td>Product_0993</td>\n",
       "      <td>Whse_J</td>\n",
       "      <td>Category_028</td>\n",
       "      <td>2012/7/27</td>\n",
       "      <td>100</td>\n",
       "    </tr>\n",
       "    <tr>\n",
       "      <th>1</th>\n",
       "      <td>Product_0979</td>\n",
       "      <td>Whse_J</td>\n",
       "      <td>Category_028</td>\n",
       "      <td>2012/1/19</td>\n",
       "      <td>500</td>\n",
       "    </tr>\n",
       "    <tr>\n",
       "      <th>2</th>\n",
       "      <td>Product_0979</td>\n",
       "      <td>Whse_J</td>\n",
       "      <td>Category_028</td>\n",
       "      <td>2012/2/3</td>\n",
       "      <td>500</td>\n",
       "    </tr>\n",
       "    <tr>\n",
       "      <th>3</th>\n",
       "      <td>Product_0979</td>\n",
       "      <td>Whse_J</td>\n",
       "      <td>Category_028</td>\n",
       "      <td>2012/2/9</td>\n",
       "      <td>500</td>\n",
       "    </tr>\n",
       "    <tr>\n",
       "      <th>4</th>\n",
       "      <td>Product_0979</td>\n",
       "      <td>Whse_J</td>\n",
       "      <td>Category_028</td>\n",
       "      <td>2012/3/2</td>\n",
       "      <td>500</td>\n",
       "    </tr>\n",
       "  </tbody>\n",
       "</table>\n",
       "</div>"
      ],
      "text/plain": [
       "   Product_Code Warehouse Product_Category       Date Order_Demand\n",
       "0  Product_0993    Whse_J     Category_028  2012/7/27         100 \n",
       "1  Product_0979    Whse_J     Category_028  2012/1/19         500 \n",
       "2  Product_0979    Whse_J     Category_028   2012/2/3         500 \n",
       "3  Product_0979    Whse_J     Category_028   2012/2/9         500 \n",
       "4  Product_0979    Whse_J     Category_028   2012/3/2         500 "
      ]
     },
     "execution_count": 2,
     "metadata": {},
     "output_type": "execute_result"
    }
   ],
   "source": [
    "df = pd.read_csv(\"/kaggle/input/productdemandforecasting/Historical Product Demand.csv\")\n",
    "df.head()"
   ]
  },
  {
   "cell_type": "code",
   "execution_count": 3,
   "id": "ddeb02a3",
   "metadata": {
    "execution": {
     "iopub.execute_input": "2023-11-14T09:33:05.183678Z",
     "iopub.status.busy": "2023-11-14T09:33:05.183279Z",
     "iopub.status.idle": "2023-11-14T09:33:05.350250Z",
     "shell.execute_reply": "2023-11-14T09:33:05.348737Z"
    },
    "papermill": {
     "duration": 0.173909,
     "end_time": "2023-11-14T09:33:05.352194",
     "exception": false,
     "start_time": "2023-11-14T09:33:05.178285",
     "status": "completed"
    },
    "tags": []
   },
   "outputs": [
    {
     "data": {
      "text/plain": [
       "Product_Code            0\n",
       "Warehouse               0\n",
       "Product_Category        0\n",
       "Date                11239\n",
       "Order_Demand            0\n",
       "dtype: int64"
      ]
     },
     "execution_count": 3,
     "metadata": {},
     "output_type": "execute_result"
    }
   ],
   "source": [
    "df.isnull().sum()"
   ]
  },
  {
   "cell_type": "code",
   "execution_count": 4,
   "id": "2b948e61",
   "metadata": {
    "execution": {
     "iopub.execute_input": "2023-11-14T09:33:05.361966Z",
     "iopub.status.busy": "2023-11-14T09:33:05.360929Z",
     "iopub.status.idle": "2023-11-14T09:33:05.432265Z",
     "shell.execute_reply": "2023-11-14T09:33:05.430950Z"
    },
    "papermill": {
     "duration": 0.078565,
     "end_time": "2023-11-14T09:33:05.434792",
     "exception": false,
     "start_time": "2023-11-14T09:33:05.356227",
     "status": "completed"
    },
    "tags": []
   },
   "outputs": [
    {
     "name": "stdout",
     "output_type": "stream",
     "text": [
      "<class 'pandas.core.series.Series'>\n",
      "RangeIndex: 1048575 entries, 0 to 1048574\n",
      "Series name: Date\n",
      "Non-Null Count    Dtype \n",
      "--------------    ----- \n",
      "1037336 non-null  object\n",
      "dtypes: object(1)\n",
      "memory usage: 8.0+ MB\n"
     ]
    }
   ],
   "source": [
    "df[\"Date\"].info()"
   ]
  },
  {
   "cell_type": "code",
   "execution_count": 5,
   "id": "a043369d",
   "metadata": {
    "execution": {
     "iopub.execute_input": "2023-11-14T09:33:05.443511Z",
     "iopub.status.busy": "2023-11-14T09:33:05.443191Z",
     "iopub.status.idle": "2023-11-14T09:33:05.683278Z",
     "shell.execute_reply": "2023-11-14T09:33:05.682201Z"
    },
    "papermill": {
     "duration": 0.247,
     "end_time": "2023-11-14T09:33:05.685609",
     "exception": false,
     "start_time": "2023-11-14T09:33:05.438609",
     "status": "completed"
    },
    "tags": []
   },
   "outputs": [],
   "source": [
    "df.dropna(inplace=True)"
   ]
  },
  {
   "cell_type": "code",
   "execution_count": 6,
   "id": "c656f756",
   "metadata": {
    "execution": {
     "iopub.execute_input": "2023-11-14T09:33:05.695030Z",
     "iopub.status.busy": "2023-11-14T09:33:05.694636Z",
     "iopub.status.idle": "2023-11-14T09:33:05.749933Z",
     "shell.execute_reply": "2023-11-14T09:33:05.748854Z"
    },
    "papermill": {
     "duration": 0.062837,
     "end_time": "2023-11-14T09:33:05.752451",
     "exception": false,
     "start_time": "2023-11-14T09:33:05.689614",
     "status": "completed"
    },
    "tags": []
   },
   "outputs": [],
   "source": [
    "X = df.drop([\"Order_Demand\"], axis = 1)\n",
    "Y = pd.DataFrame(df[\"Order_Demand\"])"
   ]
  },
  {
   "cell_type": "code",
   "execution_count": 7,
   "id": "922514b6",
   "metadata": {
    "execution": {
     "iopub.execute_input": "2023-11-14T09:33:05.761691Z",
     "iopub.status.busy": "2023-11-14T09:33:05.761282Z",
     "iopub.status.idle": "2023-11-14T09:33:05.848839Z",
     "shell.execute_reply": "2023-11-14T09:33:05.847813Z"
    },
    "papermill": {
     "duration": 0.095023,
     "end_time": "2023-11-14T09:33:05.851429",
     "exception": false,
     "start_time": "2023-11-14T09:33:05.756406",
     "status": "completed"
    },
    "tags": []
   },
   "outputs": [
    {
     "data": {
      "text/plain": [
       "count     1037336\n",
       "unique          4\n",
       "top        Whse_J\n",
       "freq       764447\n",
       "Name: Warehouse, dtype: object"
      ]
     },
     "execution_count": 7,
     "metadata": {},
     "output_type": "execute_result"
    }
   ],
   "source": [
    "df[\"Warehouse\"].describe()"
   ]
  },
  {
   "cell_type": "code",
   "execution_count": 8,
   "id": "040ccb37",
   "metadata": {
    "execution": {
     "iopub.execute_input": "2023-11-14T09:33:05.861228Z",
     "iopub.status.busy": "2023-11-14T09:33:05.860857Z",
     "iopub.status.idle": "2023-11-14T09:33:05.965400Z",
     "shell.execute_reply": "2023-11-14T09:33:05.963644Z"
    },
    "papermill": {
     "duration": 0.112741,
     "end_time": "2023-11-14T09:33:05.968369",
     "exception": false,
     "start_time": "2023-11-14T09:33:05.855628",
     "status": "completed"
    },
    "tags": []
   },
   "outputs": [
    {
     "data": {
      "text/plain": [
       "count          1037336\n",
       "unique            2160\n",
       "top       Product_1359\n",
       "freq             16936\n",
       "Name: Product_Code, dtype: object"
      ]
     },
     "execution_count": 8,
     "metadata": {},
     "output_type": "execute_result"
    }
   ],
   "source": [
    "df[\"Product_Code\"].describe()"
   ]
  },
  {
   "cell_type": "code",
   "execution_count": 9,
   "id": "55b259b9",
   "metadata": {
    "execution": {
     "iopub.execute_input": "2023-11-14T09:33:05.978064Z",
     "iopub.status.busy": "2023-11-14T09:33:05.977703Z",
     "iopub.status.idle": "2023-11-14T09:33:06.068756Z",
     "shell.execute_reply": "2023-11-14T09:33:06.067037Z"
    },
    "papermill": {
     "duration": 0.098571,
     "end_time": "2023-11-14T09:33:06.071180",
     "exception": false,
     "start_time": "2023-11-14T09:33:05.972609",
     "status": "completed"
    },
    "tags": []
   },
   "outputs": [
    {
     "data": {
      "text/plain": [
       "count          1037336\n",
       "unique              33\n",
       "top       Category_019\n",
       "freq            470266\n",
       "Name: Product_Category, dtype: object"
      ]
     },
     "execution_count": 9,
     "metadata": {},
     "output_type": "execute_result"
    }
   ],
   "source": [
    "df[\"Product_Category\"].describe()"
   ]
  },
  {
   "cell_type": "code",
   "execution_count": 10,
   "id": "5eaf4dd1",
   "metadata": {
    "execution": {
     "iopub.execute_input": "2023-11-14T09:33:06.080837Z",
     "iopub.status.busy": "2023-11-14T09:33:06.080459Z",
     "iopub.status.idle": "2023-11-14T09:33:06.810816Z",
     "shell.execute_reply": "2023-11-14T09:33:06.810126Z"
    },
    "papermill": {
     "duration": 0.737202,
     "end_time": "2023-11-14T09:33:06.812612",
     "exception": false,
     "start_time": "2023-11-14T09:33:06.075410",
     "status": "completed"
    },
    "tags": []
   },
   "outputs": [
    {
     "data": {
      "text/html": [
       "<div>\n",
       "<style scoped>\n",
       "    .dataframe tbody tr th:only-of-type {\n",
       "        vertical-align: middle;\n",
       "    }\n",
       "\n",
       "    .dataframe tbody tr th {\n",
       "        vertical-align: top;\n",
       "    }\n",
       "\n",
       "    .dataframe thead th {\n",
       "        text-align: right;\n",
       "    }\n",
       "</style>\n",
       "<table border=\"1\" class=\"dataframe\">\n",
       "  <thead>\n",
       "    <tr style=\"text-align: right;\">\n",
       "      <th></th>\n",
       "      <th>Product_Code</th>\n",
       "      <th>Date</th>\n",
       "      <th>Whse_A</th>\n",
       "      <th>Whse_C</th>\n",
       "      <th>Whse_J</th>\n",
       "      <th>Whse_S</th>\n",
       "      <th>Product_Category_001</th>\n",
       "      <th>Product_Category_002</th>\n",
       "      <th>Product_Category_003</th>\n",
       "      <th>Product_Category_004</th>\n",
       "      <th>...</th>\n",
       "      <th>Product_Category_024</th>\n",
       "      <th>Product_Category_025</th>\n",
       "      <th>Product_Category_026</th>\n",
       "      <th>Product_Category_027</th>\n",
       "      <th>Product_Category_028</th>\n",
       "      <th>Product_Category_029</th>\n",
       "      <th>Product_Category_030</th>\n",
       "      <th>Product_Category_031</th>\n",
       "      <th>Product_Category_032</th>\n",
       "      <th>Product_Category_033</th>\n",
       "    </tr>\n",
       "  </thead>\n",
       "  <tbody>\n",
       "    <tr>\n",
       "      <th>0</th>\n",
       "      <td>982</td>\n",
       "      <td>2012/7/27</td>\n",
       "      <td>False</td>\n",
       "      <td>False</td>\n",
       "      <td>True</td>\n",
       "      <td>False</td>\n",
       "      <td>False</td>\n",
       "      <td>False</td>\n",
       "      <td>False</td>\n",
       "      <td>False</td>\n",
       "      <td>...</td>\n",
       "      <td>False</td>\n",
       "      <td>False</td>\n",
       "      <td>False</td>\n",
       "      <td>False</td>\n",
       "      <td>True</td>\n",
       "      <td>False</td>\n",
       "      <td>False</td>\n",
       "      <td>False</td>\n",
       "      <td>False</td>\n",
       "      <td>False</td>\n",
       "    </tr>\n",
       "    <tr>\n",
       "      <th>1</th>\n",
       "      <td>968</td>\n",
       "      <td>2012/1/19</td>\n",
       "      <td>False</td>\n",
       "      <td>False</td>\n",
       "      <td>True</td>\n",
       "      <td>False</td>\n",
       "      <td>False</td>\n",
       "      <td>False</td>\n",
       "      <td>False</td>\n",
       "      <td>False</td>\n",
       "      <td>...</td>\n",
       "      <td>False</td>\n",
       "      <td>False</td>\n",
       "      <td>False</td>\n",
       "      <td>False</td>\n",
       "      <td>True</td>\n",
       "      <td>False</td>\n",
       "      <td>False</td>\n",
       "      <td>False</td>\n",
       "      <td>False</td>\n",
       "      <td>False</td>\n",
       "    </tr>\n",
       "    <tr>\n",
       "      <th>2</th>\n",
       "      <td>968</td>\n",
       "      <td>2012/2/3</td>\n",
       "      <td>False</td>\n",
       "      <td>False</td>\n",
       "      <td>True</td>\n",
       "      <td>False</td>\n",
       "      <td>False</td>\n",
       "      <td>False</td>\n",
       "      <td>False</td>\n",
       "      <td>False</td>\n",
       "      <td>...</td>\n",
       "      <td>False</td>\n",
       "      <td>False</td>\n",
       "      <td>False</td>\n",
       "      <td>False</td>\n",
       "      <td>True</td>\n",
       "      <td>False</td>\n",
       "      <td>False</td>\n",
       "      <td>False</td>\n",
       "      <td>False</td>\n",
       "      <td>False</td>\n",
       "    </tr>\n",
       "    <tr>\n",
       "      <th>3</th>\n",
       "      <td>968</td>\n",
       "      <td>2012/2/9</td>\n",
       "      <td>False</td>\n",
       "      <td>False</td>\n",
       "      <td>True</td>\n",
       "      <td>False</td>\n",
       "      <td>False</td>\n",
       "      <td>False</td>\n",
       "      <td>False</td>\n",
       "      <td>False</td>\n",
       "      <td>...</td>\n",
       "      <td>False</td>\n",
       "      <td>False</td>\n",
       "      <td>False</td>\n",
       "      <td>False</td>\n",
       "      <td>True</td>\n",
       "      <td>False</td>\n",
       "      <td>False</td>\n",
       "      <td>False</td>\n",
       "      <td>False</td>\n",
       "      <td>False</td>\n",
       "    </tr>\n",
       "    <tr>\n",
       "      <th>4</th>\n",
       "      <td>968</td>\n",
       "      <td>2012/3/2</td>\n",
       "      <td>False</td>\n",
       "      <td>False</td>\n",
       "      <td>True</td>\n",
       "      <td>False</td>\n",
       "      <td>False</td>\n",
       "      <td>False</td>\n",
       "      <td>False</td>\n",
       "      <td>False</td>\n",
       "      <td>...</td>\n",
       "      <td>False</td>\n",
       "      <td>False</td>\n",
       "      <td>False</td>\n",
       "      <td>False</td>\n",
       "      <td>True</td>\n",
       "      <td>False</td>\n",
       "      <td>False</td>\n",
       "      <td>False</td>\n",
       "      <td>False</td>\n",
       "      <td>False</td>\n",
       "    </tr>\n",
       "  </tbody>\n",
       "</table>\n",
       "<p>5 rows × 39 columns</p>\n",
       "</div>"
      ],
      "text/plain": [
       "   Product_Code       Date  Whse_A  Whse_C  Whse_J  Whse_S  \\\n",
       "0           982  2012/7/27   False   False    True   False   \n",
       "1           968  2012/1/19   False   False    True   False   \n",
       "2           968   2012/2/3   False   False    True   False   \n",
       "3           968   2012/2/9   False   False    True   False   \n",
       "4           968   2012/3/2   False   False    True   False   \n",
       "\n",
       "   Product_Category_001  Product_Category_002  Product_Category_003  \\\n",
       "0                 False                 False                 False   \n",
       "1                 False                 False                 False   \n",
       "2                 False                 False                 False   \n",
       "3                 False                 False                 False   \n",
       "4                 False                 False                 False   \n",
       "\n",
       "   Product_Category_004  ...  Product_Category_024  Product_Category_025  \\\n",
       "0                 False  ...                 False                 False   \n",
       "1                 False  ...                 False                 False   \n",
       "2                 False  ...                 False                 False   \n",
       "3                 False  ...                 False                 False   \n",
       "4                 False  ...                 False                 False   \n",
       "\n",
       "   Product_Category_026  Product_Category_027  Product_Category_028  \\\n",
       "0                 False                 False                  True   \n",
       "1                 False                 False                  True   \n",
       "2                 False                 False                  True   \n",
       "3                 False                 False                  True   \n",
       "4                 False                 False                  True   \n",
       "\n",
       "   Product_Category_029  Product_Category_030  Product_Category_031  \\\n",
       "0                 False                 False                 False   \n",
       "1                 False                 False                 False   \n",
       "2                 False                 False                 False   \n",
       "3                 False                 False                 False   \n",
       "4                 False                 False                 False   \n",
       "\n",
       "   Product_Category_032  Product_Category_033  \n",
       "0                 False                 False  \n",
       "1                 False                 False  \n",
       "2                 False                 False  \n",
       "3                 False                 False  \n",
       "4                 False                 False  \n",
       "\n",
       "[5 rows x 39 columns]"
      ]
     },
     "execution_count": 10,
     "metadata": {},
     "output_type": "execute_result"
    }
   ],
   "source": [
    "label_encoder = LabelEncoder()\n",
    "X [\"Product_Code\"] = label_encoder.fit_transform(X[\"Product_Code\"])\n",
    "    \n",
    "X = pd.get_dummies(X, columns = [\"Warehouse\" ,\"Product_Category\"], prefix = [None, \"Product\"])    \n",
    "X.head()"
   ]
  },
  {
   "cell_type": "code",
   "execution_count": 11,
   "id": "0c7c5081",
   "metadata": {
    "execution": {
     "iopub.execute_input": "2023-11-14T09:33:06.823331Z",
     "iopub.status.busy": "2023-11-14T09:33:06.822134Z",
     "iopub.status.idle": "2023-11-14T09:33:07.108020Z",
     "shell.execute_reply": "2023-11-14T09:33:07.106974Z"
    },
    "papermill": {
     "duration": 0.293596,
     "end_time": "2023-11-14T09:33:07.110555",
     "exception": false,
     "start_time": "2023-11-14T09:33:06.816959",
     "status": "completed"
    },
    "tags": []
   },
   "outputs": [],
   "source": [
    "x_train, x_test, y_train, y_test = train_test_split(X,Y,\n",
    "                                                    test_size = 0.2 ,random_state =42)"
   ]
  },
  {
   "cell_type": "code",
   "execution_count": 12,
   "id": "cd9858cb",
   "metadata": {
    "execution": {
     "iopub.execute_input": "2023-11-14T09:33:07.120655Z",
     "iopub.status.busy": "2023-11-14T09:33:07.120299Z",
     "iopub.status.idle": "2023-11-14T09:33:07.126673Z",
     "shell.execute_reply": "2023-11-14T09:33:07.125752Z"
    },
    "papermill": {
     "duration": 0.013546,
     "end_time": "2023-11-14T09:33:07.128660",
     "exception": false,
     "start_time": "2023-11-14T09:33:07.115114",
     "status": "completed"
    },
    "tags": []
   },
   "outputs": [
    {
     "name": "stdout",
     "output_type": "stream",
     "text": [
      "32364852\n",
      "8091252\n"
     ]
    }
   ],
   "source": [
    "print(x_train.size)\n",
    "print(x_test.size)"
   ]
  },
  {
   "cell_type": "code",
   "execution_count": null,
   "id": "c7e79c8c",
   "metadata": {
    "papermill": {
     "duration": 0.003828,
     "end_time": "2023-11-14T09:33:07.136925",
     "exception": false,
     "start_time": "2023-11-14T09:33:07.133097",
     "status": "completed"
    },
    "tags": []
   },
   "outputs": [],
   "source": []
  },
  {
   "cell_type": "code",
   "execution_count": null,
   "id": "bbf83211",
   "metadata": {
    "papermill": {
     "duration": 0.003853,
     "end_time": "2023-11-14T09:33:07.144792",
     "exception": false,
     "start_time": "2023-11-14T09:33:07.140939",
     "status": "completed"
    },
    "tags": []
   },
   "outputs": [],
   "source": []
  }
 ],
 "metadata": {
  "kernelspec": {
   "display_name": "Python 3",
   "language": "python",
   "name": "python3"
  },
  "language_info": {
   "codemirror_mode": {
    "name": "ipython",
    "version": 3
   },
   "file_extension": ".py",
   "mimetype": "text/x-python",
   "name": "python",
   "nbconvert_exporter": "python",
   "pygments_lexer": "ipython3",
   "version": "3.10.12"
  },
  "papermill": {
   "default_parameters": {},
   "duration": 9.174668,
   "end_time": "2023-11-14T09:33:07.669893",
   "environment_variables": {},
   "exception": null,
   "input_path": "__notebook__.ipynb",
   "output_path": "__notebook__.ipynb",
   "parameters": {},
   "start_time": "2023-11-14T09:32:58.495225",
   "version": "2.4.0"
  }
 },
 "nbformat": 4,
 "nbformat_minor": 5
}
